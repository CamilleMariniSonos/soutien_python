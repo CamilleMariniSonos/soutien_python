{
 "cells": [
  {
   "cell_type": "markdown",
   "metadata": {},
   "source": [
    "# Exercice Numpy \n",
    "\n",
    "Soutien Python - MS Big Data   \n",
    "Novembre 2016. Camille Marini.\n",
    "\n",
    "Dans cet exercice, nous allons travailler avec la série temporelle de température mensuelle à Paris Le Bourget sauvegardée dans le fichier `temp_paris.dat` de 1766 à 2000. \n",
    "Nous allons trouver les minima et maxima locaux de la série temporelle. On calculera ensuite des anomalies mensuelles de températures.  "
   ]
  },
  {
   "cell_type": "markdown",
   "metadata": {},
   "source": [
    "**1- Lire les données et les mettre dans une tableau numpy de taille (`nombre_années * 12,`)**  \n",
    "On utilisera la fonction de pandas `read_csv`."
   ]
  },
  {
   "cell_type": "code",
   "execution_count": null,
   "metadata": {
    "collapsed": false
   },
   "outputs": [],
   "source": [
    "%matplotlib inline\n",
    "\n",
    "import numpy as np                                                               \n",
    "import pandas as pd     \n",
    "import matplotlib.pyplot as plt\n",
    "plt.style.use('ggplot')    "
   ]
  },
  {
   "cell_type": "code",
   "execution_count": null,
   "metadata": {
    "collapsed": false
   },
   "outputs": [],
   "source": [
    "filename = 'temp_paris.dat'\n",
    "first_yr = 1766                                                                  \n",
    "last_yr = 2000                                                                   \n",
    "vec_time = np.arange(first_yr, last_yr + 1, 1./12)                               \n",
    "tab_pd = pd.read_csv(filename, skiprows=5, header=None, delim_whitespace=True,   \n",
    "                     index_col=0)                                                \n",
    "tab = tab_pd.values                                                              \n",
    "tab1 = tab.ravel()  "
   ]
  },
  {
   "cell_type": "markdown",
   "metadata": {},
   "source": [
    "**2- Faire un joli plot de la série temporelle**"
   ]
  },
  {
   "cell_type": "code",
   "execution_count": null,
   "metadata": {
    "collapsed": false
   },
   "outputs": [],
   "source": [
    "plt.plot(vec_time, tab1);   \n",
    "plt.xlabel('annees')\n",
    "plt.ylabel('temperature (degree)')\n",
    "plt.xlim(first_yr, last_yr + 1)"
   ]
  },
  {
   "cell_type": "markdown",
   "metadata": {},
   "source": [
    "**3- Centrer et blanchir la série temporelle** "
   ]
  },
  {
   "cell_type": "code",
   "execution_count": null,
   "metadata": {
    "collapsed": true
   },
   "outputs": [],
   "source": [
    "tab1 = (tab1 - np.mean(tab1)) / np.std(tab1)"
   ]
  },
  {
   "cell_type": "markdown",
   "metadata": {},
   "source": [
    "**4- Trouver les minima et maxima locaux de la série temporelle**  \n",
    "On pourra par exemple utiliser `np.diff`.  \n",
    "Représenter la série temporelle et les extrema trouvés."
   ]
  },
  {
   "cell_type": "code",
   "execution_count": null,
   "metadata": {
    "collapsed": false
   },
   "outputs": [],
   "source": [
    "def find_extrema(tt):                                                            \n",
    "    t_diff = np.diff(tt)                                                         \n",
    "    prod_diff = t_diff[:-1] * t_diff[1::]                                        \n",
    "    extrema = np.where(prod_diff < 0)                                            \n",
    "    return extrema[0] + 1                                                        \n",
    "                                                                                 \n",
    "extrema1 = find_extrema(tab1)   \n",
    "plt.plot(vec_time, tab1)\n",
    "plt.scatter(vec_time[extrema1], tab1[extrema1])  \n",
    "plt.xlim(first_yr, last_yr + 1)"
   ]
  },
  {
   "cell_type": "markdown",
   "metadata": {},
   "source": [
    "Faire la même chose en utilisant les fonctions `argrelmax` et `argrelmin` du module `scipy.signal`."
   ]
  },
  {
   "cell_type": "code",
   "execution_count": null,
   "metadata": {
    "collapsed": false
   },
   "outputs": [],
   "source": [
    "from scipy.signal import argrelmax, argrelmin                                        \n",
    "max1b = argrelmax(tab1)                                                \n",
    "max1b = max1b[0] \n",
    "min1b = argrelmin(tab1)                                                \n",
    "min1b = min1b[0] \n",
    "\n",
    "plt.plot(vec_time, tab1)\n",
    "plt.scatter(vec_time[min1b], tab1[min1b]) \n",
    "plt.scatter(vec_time[max1b], tab1[max1b]) \n",
    "plt.xlim(first_yr, last_yr + 1)"
   ]
  },
  {
   "cell_type": "markdown",
   "metadata": {},
   "source": [
    "**5- Lisser le signal et identifier les extrema persistents**  \n",
    "On pourra utiliser `np.convolve` pour faire une moyenne glissante.   \n",
    "Etudier la persitance des extrema en fonction de l'importance du lissage.  \n",
    "Optionnel: illustrer les résultats avec un joli graphique."
   ]
  },
  {
   "cell_type": "code",
   "execution_count": null,
   "metadata": {
    "collapsed": false
   },
   "outputs": [],
   "source": [
    "n_lis = 5                                                                        \n",
    "tab2 = np.convolve(tab1, 1. / n_lis * np.ones(n_lis), mode='same')               \n",
    "plt.plot(vec_time, tab2, 'r')   \n",
    "plt.xlim(first_yr, last_yr + 1)\n",
    "                                                                                 \n",
    "extrema2 = find_extrema(tab2)                                                    \n",
    "plt.scatter(vec_time[extrema2], tab2[extrema2], c='r')                           \n",
    "                                                     \n",
    "range_test = range(10, 50, 5)\n",
    "extrem_mat = np.zeros((len(range_test), tab2.shape[0]))                                                                                                      \n",
    "for i, i_lis in enumerate(range_test):                                               \n",
    "    tt = np.convolve(tab1, 1. / i_lis * np.ones(i_lis), mode='same')             \n",
    "    extrem = find_extrema(tt) \n",
    "    extrem_mat[i, extrem] = 1   "
   ]
  },
  {
   "cell_type": "markdown",
   "metadata": {},
   "source": [
    "Optionnel: Faire la même chose en utilisant la fonction `butter` et `filtfilt` du module `scipy.signal`."
   ]
  },
  {
   "cell_type": "code",
   "execution_count": null,
   "metadata": {
    "collapsed": false
   },
   "outputs": [],
   "source": [
    "from scipy.signal import butter, filtfilt                                      \n",
    "b, a = butter(2, 1. / 4)                                                       \n",
    "y = filtfilt(b, a, tab1)                                                       \n",
    "plt.figure()                                                                   \n",
    "plt.plot(vec_time, tab1, 'b')                                                            \n",
    "plt.plot(vec_time, tab2, 'g')                                                            \n",
    "plt.plot(vec_time, y, 'r')  \n",
    "plt.xlim(1800, 1806)"
   ]
  },
  {
   "cell_type": "markdown",
   "metadata": {},
   "source": [
    "**6- Calcul des anomalies mensuelles**  \n",
    "\n",
    "Ci-dessus, on a trouvé qu'il faisait le plus chaud en été et le plus froid en hiver...  \n",
    "Ce qui pourrait être intéressant serait de savoir les mois les plus chaud/froid par rapport \"aux normales saisonnières\".  \n",
    "Pour cela, on reprend les données de départ (non normalisées) et on va calculer des anomalies mensuelles. Cela consiste à enlever pour chaque mois de janvier (février, mars, ...) la moyenne calculée sur les mois de janvier (février, mars, ...). Mettre les anomalies dans un tableau de taille (`nombre_années * 12, `) et faire un joli plot de cette nouvelle série temporelle."
   ]
  },
  {
   "cell_type": "code",
   "execution_count": null,
   "metadata": {
    "collapsed": false
   },
   "outputs": [],
   "source": [
    "tab_mean = np.mean(tab, axis=0)                                                  \n",
    "anom = tab - tab_mean                                                            \n",
    "anom = anom.ravel()                                                              \n",
    "                                                                                 \n",
    "plt.figure()                                                                     \n",
    "plt.plot(vec_time, anom)\n",
    "plt.xlim(first_yr, last_yr + 1)"
   ]
  },
  {
   "cell_type": "markdown",
   "metadata": {},
   "source": [
    "Pour chaque mois, trouver l'année la plus chaude et la plus froide."
   ]
  },
  {
   "cell_type": "code",
   "execution_count": null,
   "metadata": {
    "collapsed": true
   },
   "outputs": [],
   "source": []
  }
 ],
 "metadata": {
  "kernelspec": {
   "display_name": "Python 2",
   "language": "python",
   "name": "python2"
  },
  "language_info": {
   "codemirror_mode": {
    "name": "ipython",
    "version": 2
   },
   "file_extension": ".py",
   "mimetype": "text/x-python",
   "name": "python",
   "nbconvert_exporter": "python",
   "pygments_lexer": "ipython2",
   "version": "2.7.12"
  }
 },
 "nbformat": 4,
 "nbformat_minor": 0
}
