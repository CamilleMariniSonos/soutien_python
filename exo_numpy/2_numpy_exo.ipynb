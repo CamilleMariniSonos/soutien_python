{
 "cells": [
  {
   "cell_type": "markdown",
   "metadata": {},
   "source": [
    "# Exercice Numpy \n",
    "\n",
    "Soutien Python - MS Big Data   \n",
    "Novembre 2016. Camille Marini.\n",
    "\n",
    "Dans cet exercice, nous allons travailler avec la série temporelle de température mensuelle à Paris Le Bourget sauvegardée dans le fichier `temp_paris.dat` de 1766 à 2000. \n",
    "Nous allons trouver les minima et maxima locaux de la série temporelle. On calculera ensuite des anomalies mensuelles de températures.  "
   ]
  },
  {
   "cell_type": "markdown",
   "metadata": {},
   "source": [
    "**1- Lire les données et les mettre dans une tableau numpy de taille (`nombre_années * 12,`)**  \n",
    "On utilisera la fonction de pandas `read_csv`."
   ]
  },
  {
   "cell_type": "code",
   "execution_count": 43,
   "metadata": {
    "collapsed": false
   },
   "outputs": [],
   "source": []
  },
  {
   "cell_type": "code",
   "execution_count": 41,
   "metadata": {
    "collapsed": false
   },
   "outputs": [],
   "source": []
  },
  {
   "cell_type": "markdown",
   "metadata": {},
   "source": [
    "**2- Faire un joli plot de la série temporelle**"
   ]
  },
  {
   "cell_type": "code",
   "execution_count": null,
   "metadata": {
    "collapsed": false
   },
   "outputs": [],
   "source": []
  },
  {
   "cell_type": "markdown",
   "metadata": {},
   "source": [
    "**3- Centrer et blanchir la série temporelle** "
   ]
  },
  {
   "cell_type": "code",
   "execution_count": 14,
   "metadata": {
    "collapsed": true
   },
   "outputs": [],
   "source": []
  },
  {
   "cell_type": "markdown",
   "metadata": {},
   "source": [
    "**4- Trouver les minima et maxima locaux de la série temporelle**  \n",
    "On pourra par exemple utiliser `np.diff`.  \n",
    "Représenter la série temporelle et les extrema trouvés."
   ]
  },
  {
   "cell_type": "code",
   "execution_count": null,
   "metadata": {
    "collapsed": false
   },
   "outputs": [],
   "source": []
  },
  {
   "cell_type": "markdown",
   "metadata": {},
   "source": [
    "Faire la même chose en utilisant les fonctions `argrelmax` et `argrelmin` du module `scipy.signal`."
   ]
  },
  {
   "cell_type": "code",
   "execution_count": null,
   "metadata": {
    "collapsed": false
   },
   "outputs": [],
   "source": []
  },
  {
   "cell_type": "markdown",
   "metadata": {},
   "source": [
    "**5- Lisser le signal et identifier les extrema persistents**  \n",
    "On pourra utiliser `np.convolve` pour faire une moyenne glissante.   \n",
    "Etudier la persitance des extrema en fonction de l'importance du lissage.  \n",
    "Optionnel: illustrer les résultats avec un joli graphique."
   ]
  },
  {
   "cell_type": "code",
   "execution_count": null,
   "metadata": {
    "collapsed": false
   },
   "outputs": [],
   "source": [
    "  "
   ]
  },
  {
   "cell_type": "markdown",
   "metadata": {},
   "source": [
    "Optionnel: Faire la même chose en utilisant la fonction `butter` et `filtfilt` du module `scipy.signal`."
   ]
  },
  {
   "cell_type": "code",
   "execution_count": null,
   "metadata": {
    "collapsed": false
   },
   "outputs": [],
   "source": []
  },
  {
   "cell_type": "markdown",
   "metadata": {},
   "source": [
    "**6- Calcul des anomalies mensuelles**  \n",
    "\n",
    "Ci-dessus, on a trouvé qu'il faisait le plus chaud en été et le plus froid en hiver...  \n",
    "Ce qui pourrait être intéressant serait de savoir les mois les plus chaud/froid par rapport \"aux normales saisonnières\".  \n",
    "Pour cela, on reprend les données de départ (non normalisées) et on va calculer des anomalies mensuelles. Cela consiste à enlever pour chaque mois de janvier (février, mars, ...) la moyenne calculée sur les mois de janvier (février, mars, ...). Mettre les anomalies dans un tableau de taille (`nombre_années * 12, `) et faire un joli plot de cette nouvelle série temporelle."
   ]
  },
  {
   "cell_type": "code",
   "execution_count": null,
   "metadata": {
    "collapsed": false
   },
   "outputs": [],
   "source": []
  },
  {
   "cell_type": "markdown",
   "metadata": {},
   "source": [
    "Pour chaque mois, trouver l'année la plus chaude et la plus froide."
   ]
  },
  {
   "cell_type": "code",
   "execution_count": null,
   "metadata": {
    "collapsed": true
   },
   "outputs": [],
   "source": []
  }
 ],
 "metadata": {
  "kernelspec": {
   "display_name": "Python 2",
   "language": "python",
   "name": "python2"
  },
  "language_info": {
   "codemirror_mode": {
    "name": "ipython",
    "version": 2
   },
   "file_extension": ".py",
   "mimetype": "text/x-python",
   "name": "python",
   "nbconvert_exporter": "python",
   "pygments_lexer": "ipython2",
   "version": "2.7.12"
  }
 },
 "nbformat": 4,
 "nbformat_minor": 0
}
